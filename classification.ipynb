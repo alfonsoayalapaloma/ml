{
  "nbformat": 4,
  "nbformat_minor": 0,
  "metadata": {
    "colab": {
      "provenance": [],
      "collapsed_sections": []
    },
    "kernelspec": {
      "name": "python3",
      "display_name": "Python 3"
    },
    "language_info": {
      "name": "python"
    }
  },
  "cells": [
    {
      "cell_type": "code",
      "execution_count": 76,
      "metadata": {
        "id": "OW0A2HXURKA6"
      },
      "outputs": [],
      "source": [
        "import pandas as pd\n",
        "from sklearn.naive_bayes import GaussianNB\n",
        "from sklearn.linear_model import LogisticRegression\n",
        "from sklearn.ensemble import GradientBoostingClassifier, RandomForestClassifier\n",
        "from sklearn.model_selection import train_test_split\n",
        "from sklearn.metrics import classification_report as classificationreport\n",
        "\n",
        "from yellowbrick.classifier import ClassificationReport\n",
        "from yellowbrick.classifier import ROCAUC\n",
        "from yellowbrick.classifier import PrecisionRecallCurve\n",
        "from yellowbrick.classifier import ConfusionMatrix\n",
        "from yellowbrick.model_selection import FeatureImportances\n",
        "\n",
        "from pandas_profiling import ProfileReport\n",
        "# This ensures plots are displayed inline in the Jupyter notebook\n",
        "%matplotlib inline"
      ]
    },
    {
      "cell_type": "code",
      "source": [
        "# 1. Analisis del problema\n",
        "\n",
        "# Se tiene el dataset: https://raw.githubusercontent.com/alfonsoayalapaloma/datasets/main/credit_default.csv\n",
        "# Proveniente de: https://archive.ics.uci.edu/ml/datasets/default+of+credit+card+clients\n",
        "\n",
        "\n",
        "# Se quiere predecir quien dejará de pagar su crédito 'default'\n",
        "# \n",
        "# Tenemos 23 features: variables independientes entre ellas:\n",
        "# ['limit', 'edu', 'married', 'age', 'apr_delay', 'may_delay', 'jun_delay', 'jul_delay', 'aug_delay', 'sep_delay', 'apr_bill', 'may_bill', 'jun_bill', 'jul_bill', 'aug_bill', 'sep_bill', 'apr_pay', 'may_pay', 'jun_pay', 'jul_pay', 'aug_pay', 'sep_pay']\n",
        "# ['sex']\n",
        "# Tenemos 1 feature  Dependiente 'default'  si dejó de pagar su credito o no.  (La que se va a predecir).\n",
        "# algunas features son numericas, otras son categorias.\n",
        "# Queremos predecir una categoría (Si o NO),\n",
        "# Entonces Este es un problema de CLASIFICACION\n",
        "# Usamos modelos de clasificacion como: \n",
        "# [GradientBoostingClassifier(), RandomForestClassifier(), LogisticRegression(max_iter=1000), GaussianNB() ]\n"
      ],
      "metadata": {
        "id": "NxCfIFlVlhsx"
      },
      "execution_count": 77,
      "outputs": []
    },
    {
      "cell_type": "code",
      "source": [
        "# 2. Importar el dataset\n",
        "def load_data(input_data, upsampled=False):\n",
        "  df=pd.read_csv(input_data)\n",
        "  return df \n",
        "\n",
        "input_data='https://raw.githubusercontent.com/alfonsoayalapaloma/datasets/main/credit_default.csv'\n",
        "df=load_data(input_data)\n"
      ],
      "metadata": {
        "id": "-loxNy5lpv9H"
      },
      "execution_count": 78,
      "outputs": []
    },
    {
      "cell_type": "code",
      "source": [
        "# 3. Data Analysis\n",
        "#Check data\n",
        "df.head()"
      ],
      "metadata": {
        "colab": {
          "base_uri": "https://localhost:8080/",
          "height": 300
        },
        "id": "X8LSOK88pvXW",
        "outputId": "a803c89b-8c41-42c1-9874-4c10b4026dbd"
      },
      "execution_count": 79,
      "outputs": [
        {
          "output_type": "execute_result",
          "data": {
            "text/plain": [
              "   default   limit sex  edu  married  age  apr_delay  may_delay  jun_delay  \\\n",
              "0        1   20000   M    2        1   24          2          2         -1   \n",
              "1        1  120000   M    2        2   26         -1          2          0   \n",
              "2        0   90000   M    2        2   34          0          0          0   \n",
              "3        0   50000   M    2        1   37          0          0          0   \n",
              "4        0   50000   F    2        1   57         -1          0         -1   \n",
              "\n",
              "   jul_delay  ...  jun_bill  jul_bill  aug_bill  sep_bill  apr_pay  may_pay  \\\n",
              "0         -1  ...       689         0         0         0        0      689   \n",
              "1          0  ...      2682      3272      3455      3261        0     1000   \n",
              "2          0  ...     13559     14331     14948     15549     1518     1500   \n",
              "3          0  ...     49291     28314     28959     29547     2000     2019   \n",
              "4          0  ...     35835     20940     19146     19131     2000    36681   \n",
              "\n",
              "   jun_pay  jul_pay  aug_pay  sep_pay  \n",
              "0        0        0        0        0  \n",
              "1     1000     1000        0     2000  \n",
              "2     1000     1000     1000     5000  \n",
              "3     1200     1100     1069     1000  \n",
              "4    10000     9000      689      679  \n",
              "\n",
              "[5 rows x 24 columns]"
            ],
            "text/html": [
              "\n",
              "  <div id=\"df-d656ee05-4aba-4e4f-98cc-141b6c36c8d2\">\n",
              "    <div class=\"colab-df-container\">\n",
              "      <div>\n",
              "<style scoped>\n",
              "    .dataframe tbody tr th:only-of-type {\n",
              "        vertical-align: middle;\n",
              "    }\n",
              "\n",
              "    .dataframe tbody tr th {\n",
              "        vertical-align: top;\n",
              "    }\n",
              "\n",
              "    .dataframe thead th {\n",
              "        text-align: right;\n",
              "    }\n",
              "</style>\n",
              "<table border=\"1\" class=\"dataframe\">\n",
              "  <thead>\n",
              "    <tr style=\"text-align: right;\">\n",
              "      <th></th>\n",
              "      <th>default</th>\n",
              "      <th>limit</th>\n",
              "      <th>sex</th>\n",
              "      <th>edu</th>\n",
              "      <th>married</th>\n",
              "      <th>age</th>\n",
              "      <th>apr_delay</th>\n",
              "      <th>may_delay</th>\n",
              "      <th>jun_delay</th>\n",
              "      <th>jul_delay</th>\n",
              "      <th>...</th>\n",
              "      <th>jun_bill</th>\n",
              "      <th>jul_bill</th>\n",
              "      <th>aug_bill</th>\n",
              "      <th>sep_bill</th>\n",
              "      <th>apr_pay</th>\n",
              "      <th>may_pay</th>\n",
              "      <th>jun_pay</th>\n",
              "      <th>jul_pay</th>\n",
              "      <th>aug_pay</th>\n",
              "      <th>sep_pay</th>\n",
              "    </tr>\n",
              "  </thead>\n",
              "  <tbody>\n",
              "    <tr>\n",
              "      <th>0</th>\n",
              "      <td>1</td>\n",
              "      <td>20000</td>\n",
              "      <td>M</td>\n",
              "      <td>2</td>\n",
              "      <td>1</td>\n",
              "      <td>24</td>\n",
              "      <td>2</td>\n",
              "      <td>2</td>\n",
              "      <td>-1</td>\n",
              "      <td>-1</td>\n",
              "      <td>...</td>\n",
              "      <td>689</td>\n",
              "      <td>0</td>\n",
              "      <td>0</td>\n",
              "      <td>0</td>\n",
              "      <td>0</td>\n",
              "      <td>689</td>\n",
              "      <td>0</td>\n",
              "      <td>0</td>\n",
              "      <td>0</td>\n",
              "      <td>0</td>\n",
              "    </tr>\n",
              "    <tr>\n",
              "      <th>1</th>\n",
              "      <td>1</td>\n",
              "      <td>120000</td>\n",
              "      <td>M</td>\n",
              "      <td>2</td>\n",
              "      <td>2</td>\n",
              "      <td>26</td>\n",
              "      <td>-1</td>\n",
              "      <td>2</td>\n",
              "      <td>0</td>\n",
              "      <td>0</td>\n",
              "      <td>...</td>\n",
              "      <td>2682</td>\n",
              "      <td>3272</td>\n",
              "      <td>3455</td>\n",
              "      <td>3261</td>\n",
              "      <td>0</td>\n",
              "      <td>1000</td>\n",
              "      <td>1000</td>\n",
              "      <td>1000</td>\n",
              "      <td>0</td>\n",
              "      <td>2000</td>\n",
              "    </tr>\n",
              "    <tr>\n",
              "      <th>2</th>\n",
              "      <td>0</td>\n",
              "      <td>90000</td>\n",
              "      <td>M</td>\n",
              "      <td>2</td>\n",
              "      <td>2</td>\n",
              "      <td>34</td>\n",
              "      <td>0</td>\n",
              "      <td>0</td>\n",
              "      <td>0</td>\n",
              "      <td>0</td>\n",
              "      <td>...</td>\n",
              "      <td>13559</td>\n",
              "      <td>14331</td>\n",
              "      <td>14948</td>\n",
              "      <td>15549</td>\n",
              "      <td>1518</td>\n",
              "      <td>1500</td>\n",
              "      <td>1000</td>\n",
              "      <td>1000</td>\n",
              "      <td>1000</td>\n",
              "      <td>5000</td>\n",
              "    </tr>\n",
              "    <tr>\n",
              "      <th>3</th>\n",
              "      <td>0</td>\n",
              "      <td>50000</td>\n",
              "      <td>M</td>\n",
              "      <td>2</td>\n",
              "      <td>1</td>\n",
              "      <td>37</td>\n",
              "      <td>0</td>\n",
              "      <td>0</td>\n",
              "      <td>0</td>\n",
              "      <td>0</td>\n",
              "      <td>...</td>\n",
              "      <td>49291</td>\n",
              "      <td>28314</td>\n",
              "      <td>28959</td>\n",
              "      <td>29547</td>\n",
              "      <td>2000</td>\n",
              "      <td>2019</td>\n",
              "      <td>1200</td>\n",
              "      <td>1100</td>\n",
              "      <td>1069</td>\n",
              "      <td>1000</td>\n",
              "    </tr>\n",
              "    <tr>\n",
              "      <th>4</th>\n",
              "      <td>0</td>\n",
              "      <td>50000</td>\n",
              "      <td>F</td>\n",
              "      <td>2</td>\n",
              "      <td>1</td>\n",
              "      <td>57</td>\n",
              "      <td>-1</td>\n",
              "      <td>0</td>\n",
              "      <td>-1</td>\n",
              "      <td>0</td>\n",
              "      <td>...</td>\n",
              "      <td>35835</td>\n",
              "      <td>20940</td>\n",
              "      <td>19146</td>\n",
              "      <td>19131</td>\n",
              "      <td>2000</td>\n",
              "      <td>36681</td>\n",
              "      <td>10000</td>\n",
              "      <td>9000</td>\n",
              "      <td>689</td>\n",
              "      <td>679</td>\n",
              "    </tr>\n",
              "  </tbody>\n",
              "</table>\n",
              "<p>5 rows × 24 columns</p>\n",
              "</div>\n",
              "      <button class=\"colab-df-convert\" onclick=\"convertToInteractive('df-d656ee05-4aba-4e4f-98cc-141b6c36c8d2')\"\n",
              "              title=\"Convert this dataframe to an interactive table.\"\n",
              "              style=\"display:none;\">\n",
              "        \n",
              "  <svg xmlns=\"http://www.w3.org/2000/svg\" height=\"24px\"viewBox=\"0 0 24 24\"\n",
              "       width=\"24px\">\n",
              "    <path d=\"M0 0h24v24H0V0z\" fill=\"none\"/>\n",
              "    <path d=\"M18.56 5.44l.94 2.06.94-2.06 2.06-.94-2.06-.94-.94-2.06-.94 2.06-2.06.94zm-11 1L8.5 8.5l.94-2.06 2.06-.94-2.06-.94L8.5 2.5l-.94 2.06-2.06.94zm10 10l.94 2.06.94-2.06 2.06-.94-2.06-.94-.94-2.06-.94 2.06-2.06.94z\"/><path d=\"M17.41 7.96l-1.37-1.37c-.4-.4-.92-.59-1.43-.59-.52 0-1.04.2-1.43.59L10.3 9.45l-7.72 7.72c-.78.78-.78 2.05 0 2.83L4 21.41c.39.39.9.59 1.41.59.51 0 1.02-.2 1.41-.59l7.78-7.78 2.81-2.81c.8-.78.8-2.07 0-2.86zM5.41 20L4 18.59l7.72-7.72 1.47 1.35L5.41 20z\"/>\n",
              "  </svg>\n",
              "      </button>\n",
              "      \n",
              "  <style>\n",
              "    .colab-df-container {\n",
              "      display:flex;\n",
              "      flex-wrap:wrap;\n",
              "      gap: 12px;\n",
              "    }\n",
              "\n",
              "    .colab-df-convert {\n",
              "      background-color: #E8F0FE;\n",
              "      border: none;\n",
              "      border-radius: 50%;\n",
              "      cursor: pointer;\n",
              "      display: none;\n",
              "      fill: #1967D2;\n",
              "      height: 32px;\n",
              "      padding: 0 0 0 0;\n",
              "      width: 32px;\n",
              "    }\n",
              "\n",
              "    .colab-df-convert:hover {\n",
              "      background-color: #E2EBFA;\n",
              "      box-shadow: 0px 1px 2px rgba(60, 64, 67, 0.3), 0px 1px 3px 1px rgba(60, 64, 67, 0.15);\n",
              "      fill: #174EA6;\n",
              "    }\n",
              "\n",
              "    [theme=dark] .colab-df-convert {\n",
              "      background-color: #3B4455;\n",
              "      fill: #D2E3FC;\n",
              "    }\n",
              "\n",
              "    [theme=dark] .colab-df-convert:hover {\n",
              "      background-color: #434B5C;\n",
              "      box-shadow: 0px 1px 3px 1px rgba(0, 0, 0, 0.15);\n",
              "      filter: drop-shadow(0px 1px 2px rgba(0, 0, 0, 0.3));\n",
              "      fill: #FFFFFF;\n",
              "    }\n",
              "  </style>\n",
              "\n",
              "      <script>\n",
              "        const buttonEl =\n",
              "          document.querySelector('#df-d656ee05-4aba-4e4f-98cc-141b6c36c8d2 button.colab-df-convert');\n",
              "        buttonEl.style.display =\n",
              "          google.colab.kernel.accessAllowed ? 'block' : 'none';\n",
              "\n",
              "        async function convertToInteractive(key) {\n",
              "          const element = document.querySelector('#df-d656ee05-4aba-4e4f-98cc-141b6c36c8d2');\n",
              "          const dataTable =\n",
              "            await google.colab.kernel.invokeFunction('convertToInteractive',\n",
              "                                                     [key], {});\n",
              "          if (!dataTable) return;\n",
              "\n",
              "          const docLinkHtml = 'Like what you see? Visit the ' +\n",
              "            '<a target=\"_blank\" href=https://colab.research.google.com/notebooks/data_table.ipynb>data table notebook</a>'\n",
              "            + ' to learn more about interactive tables.';\n",
              "          element.innerHTML = '';\n",
              "          dataTable['output_type'] = 'display_data';\n",
              "          await google.colab.output.renderOutput(dataTable, element);\n",
              "          const docLink = document.createElement('div');\n",
              "          docLink.innerHTML = docLinkHtml;\n",
              "          element.appendChild(docLink);\n",
              "        }\n",
              "      </script>\n",
              "    </div>\n",
              "  </div>\n",
              "  "
            ]
          },
          "metadata": {},
          "execution_count": 79
        }
      ]
    },
    {
      "cell_type": "code",
      "source": [
        "#get column info\n",
        "df.info()"
      ],
      "metadata": {
        "colab": {
          "base_uri": "https://localhost:8080/"
        },
        "id": "RD73lcAgU0yf",
        "outputId": "5fd485ed-03e1-4b93-9344-dfcabcfa87a5"
      },
      "execution_count": 80,
      "outputs": [
        {
          "output_type": "stream",
          "name": "stdout",
          "text": [
            "<class 'pandas.core.frame.DataFrame'>\n",
            "RangeIndex: 30000 entries, 0 to 29999\n",
            "Data columns (total 24 columns):\n",
            " #   Column     Non-Null Count  Dtype \n",
            "---  ------     --------------  ----- \n",
            " 0   default    30000 non-null  int64 \n",
            " 1   limit      30000 non-null  int64 \n",
            " 2   sex        30000 non-null  object\n",
            " 3   edu        30000 non-null  int64 \n",
            " 4   married    30000 non-null  int64 \n",
            " 5   age        30000 non-null  int64 \n",
            " 6   apr_delay  30000 non-null  int64 \n",
            " 7   may_delay  30000 non-null  int64 \n",
            " 8   jun_delay  30000 non-null  int64 \n",
            " 9   jul_delay  30000 non-null  int64 \n",
            " 10  aug_delay  30000 non-null  int64 \n",
            " 11  sep_delay  30000 non-null  int64 \n",
            " 12  apr_bill   30000 non-null  int64 \n",
            " 13  may_bill   30000 non-null  int64 \n",
            " 14  jun_bill   30000 non-null  int64 \n",
            " 15  jul_bill   30000 non-null  int64 \n",
            " 16  aug_bill   30000 non-null  int64 \n",
            " 17  sep_bill   30000 non-null  int64 \n",
            " 18  apr_pay    30000 non-null  int64 \n",
            " 19  may_pay    30000 non-null  int64 \n",
            " 20  jun_pay    30000 non-null  int64 \n",
            " 21  jul_pay    30000 non-null  int64 \n",
            " 22  aug_pay    30000 non-null  int64 \n",
            " 23  sep_pay    30000 non-null  int64 \n",
            "dtypes: int64(23), object(1)\n",
            "memory usage: 5.5+ MB\n"
          ]
        }
      ]
    },
    {
      "cell_type": "code",
      "source": [
        "#get Statistics\n",
        "df.describe()"
      ],
      "metadata": {
        "colab": {
          "base_uri": "https://localhost:8080/",
          "height": 394
        },
        "id": "LnbdzBT8U7jV",
        "outputId": "e5000f26-ebdc-4dbe-c6da-cef7a394df3e"
      },
      "execution_count": 81,
      "outputs": [
        {
          "output_type": "execute_result",
          "data": {
            "text/plain": [
              "            default           limit           edu       married           age  \\\n",
              "count  30000.000000    30000.000000  30000.000000  30000.000000  30000.000000   \n",
              "mean       0.221200   167484.322667      1.853133      1.551867     35.485500   \n",
              "std        0.415062   129747.661567      0.790349      0.521970      9.217904   \n",
              "min        0.000000    10000.000000      0.000000      0.000000     21.000000   \n",
              "25%        0.000000    50000.000000      1.000000      1.000000     28.000000   \n",
              "50%        0.000000   140000.000000      2.000000      2.000000     34.000000   \n",
              "75%        0.000000   240000.000000      2.000000      2.000000     41.000000   \n",
              "max        1.000000  1000000.000000      6.000000      3.000000     79.000000   \n",
              "\n",
              "          apr_delay     may_delay     jun_delay     jul_delay     aug_delay  \\\n",
              "count  30000.000000  30000.000000  30000.000000  30000.000000  30000.000000   \n",
              "mean      -0.016700     -0.133767     -0.166200     -0.220667     -0.266200   \n",
              "std        1.123802      1.197186      1.196868      1.169139      1.133187   \n",
              "min       -2.000000     -2.000000     -2.000000     -2.000000     -2.000000   \n",
              "25%       -1.000000     -1.000000     -1.000000     -1.000000     -1.000000   \n",
              "50%        0.000000      0.000000      0.000000      0.000000      0.000000   \n",
              "75%        0.000000      0.000000      0.000000      0.000000      0.000000   \n",
              "max        8.000000      8.000000      8.000000      8.000000      8.000000   \n",
              "\n",
              "       ...      jun_bill       jul_bill       aug_bill       sep_bill  \\\n",
              "count  ...  3.000000e+04   30000.000000   30000.000000   30000.000000   \n",
              "mean   ...  4.701315e+04   43262.948967   40311.400967   38871.760400   \n",
              "std    ...  6.934939e+04   64332.856134   60797.155770   59554.107537   \n",
              "min    ... -1.572640e+05 -170000.000000  -81334.000000 -339603.000000   \n",
              "25%    ...  2.666250e+03    2326.750000    1763.000000    1256.000000   \n",
              "50%    ...  2.008850e+04   19052.000000   18104.500000   17071.000000   \n",
              "75%    ...  6.016475e+04   54506.000000   50190.500000   49198.250000   \n",
              "max    ...  1.664089e+06  891586.000000  927171.000000  961664.000000   \n",
              "\n",
              "             apr_pay       may_pay       jun_pay        jul_pay  \\\n",
              "count   30000.000000  3.000000e+04   30000.00000   30000.000000   \n",
              "mean     5663.580500  5.921163e+03    5225.68150    4826.076867   \n",
              "std     16563.280354  2.304087e+04   17606.96147   15666.159744   \n",
              "min         0.000000  0.000000e+00       0.00000       0.000000   \n",
              "25%      1000.000000  8.330000e+02     390.00000     296.000000   \n",
              "50%      2100.000000  2.009000e+03    1800.00000    1500.000000   \n",
              "75%      5006.000000  5.000000e+03    4505.00000    4013.250000   \n",
              "max    873552.000000  1.684259e+06  896040.00000  621000.000000   \n",
              "\n",
              "             aug_pay        sep_pay  \n",
              "count   30000.000000   30000.000000  \n",
              "mean     4799.387633    5215.502567  \n",
              "std     15278.305679   17777.465775  \n",
              "min         0.000000       0.000000  \n",
              "25%       252.500000     117.750000  \n",
              "50%      1500.000000    1500.000000  \n",
              "75%      4031.500000    4000.000000  \n",
              "max    426529.000000  528666.000000  \n",
              "\n",
              "[8 rows x 23 columns]"
            ],
            "text/html": [
              "\n",
              "  <div id=\"df-0cf55d41-512e-408a-8a4c-1f28291ef3b6\">\n",
              "    <div class=\"colab-df-container\">\n",
              "      <div>\n",
              "<style scoped>\n",
              "    .dataframe tbody tr th:only-of-type {\n",
              "        vertical-align: middle;\n",
              "    }\n",
              "\n",
              "    .dataframe tbody tr th {\n",
              "        vertical-align: top;\n",
              "    }\n",
              "\n",
              "    .dataframe thead th {\n",
              "        text-align: right;\n",
              "    }\n",
              "</style>\n",
              "<table border=\"1\" class=\"dataframe\">\n",
              "  <thead>\n",
              "    <tr style=\"text-align: right;\">\n",
              "      <th></th>\n",
              "      <th>default</th>\n",
              "      <th>limit</th>\n",
              "      <th>edu</th>\n",
              "      <th>married</th>\n",
              "      <th>age</th>\n",
              "      <th>apr_delay</th>\n",
              "      <th>may_delay</th>\n",
              "      <th>jun_delay</th>\n",
              "      <th>jul_delay</th>\n",
              "      <th>aug_delay</th>\n",
              "      <th>...</th>\n",
              "      <th>jun_bill</th>\n",
              "      <th>jul_bill</th>\n",
              "      <th>aug_bill</th>\n",
              "      <th>sep_bill</th>\n",
              "      <th>apr_pay</th>\n",
              "      <th>may_pay</th>\n",
              "      <th>jun_pay</th>\n",
              "      <th>jul_pay</th>\n",
              "      <th>aug_pay</th>\n",
              "      <th>sep_pay</th>\n",
              "    </tr>\n",
              "  </thead>\n",
              "  <tbody>\n",
              "    <tr>\n",
              "      <th>count</th>\n",
              "      <td>30000.000000</td>\n",
              "      <td>30000.000000</td>\n",
              "      <td>30000.000000</td>\n",
              "      <td>30000.000000</td>\n",
              "      <td>30000.000000</td>\n",
              "      <td>30000.000000</td>\n",
              "      <td>30000.000000</td>\n",
              "      <td>30000.000000</td>\n",
              "      <td>30000.000000</td>\n",
              "      <td>30000.000000</td>\n",
              "      <td>...</td>\n",
              "      <td>3.000000e+04</td>\n",
              "      <td>30000.000000</td>\n",
              "      <td>30000.000000</td>\n",
              "      <td>30000.000000</td>\n",
              "      <td>30000.000000</td>\n",
              "      <td>3.000000e+04</td>\n",
              "      <td>30000.00000</td>\n",
              "      <td>30000.000000</td>\n",
              "      <td>30000.000000</td>\n",
              "      <td>30000.000000</td>\n",
              "    </tr>\n",
              "    <tr>\n",
              "      <th>mean</th>\n",
              "      <td>0.221200</td>\n",
              "      <td>167484.322667</td>\n",
              "      <td>1.853133</td>\n",
              "      <td>1.551867</td>\n",
              "      <td>35.485500</td>\n",
              "      <td>-0.016700</td>\n",
              "      <td>-0.133767</td>\n",
              "      <td>-0.166200</td>\n",
              "      <td>-0.220667</td>\n",
              "      <td>-0.266200</td>\n",
              "      <td>...</td>\n",
              "      <td>4.701315e+04</td>\n",
              "      <td>43262.948967</td>\n",
              "      <td>40311.400967</td>\n",
              "      <td>38871.760400</td>\n",
              "      <td>5663.580500</td>\n",
              "      <td>5.921163e+03</td>\n",
              "      <td>5225.68150</td>\n",
              "      <td>4826.076867</td>\n",
              "      <td>4799.387633</td>\n",
              "      <td>5215.502567</td>\n",
              "    </tr>\n",
              "    <tr>\n",
              "      <th>std</th>\n",
              "      <td>0.415062</td>\n",
              "      <td>129747.661567</td>\n",
              "      <td>0.790349</td>\n",
              "      <td>0.521970</td>\n",
              "      <td>9.217904</td>\n",
              "      <td>1.123802</td>\n",
              "      <td>1.197186</td>\n",
              "      <td>1.196868</td>\n",
              "      <td>1.169139</td>\n",
              "      <td>1.133187</td>\n",
              "      <td>...</td>\n",
              "      <td>6.934939e+04</td>\n",
              "      <td>64332.856134</td>\n",
              "      <td>60797.155770</td>\n",
              "      <td>59554.107537</td>\n",
              "      <td>16563.280354</td>\n",
              "      <td>2.304087e+04</td>\n",
              "      <td>17606.96147</td>\n",
              "      <td>15666.159744</td>\n",
              "      <td>15278.305679</td>\n",
              "      <td>17777.465775</td>\n",
              "    </tr>\n",
              "    <tr>\n",
              "      <th>min</th>\n",
              "      <td>0.000000</td>\n",
              "      <td>10000.000000</td>\n",
              "      <td>0.000000</td>\n",
              "      <td>0.000000</td>\n",
              "      <td>21.000000</td>\n",
              "      <td>-2.000000</td>\n",
              "      <td>-2.000000</td>\n",
              "      <td>-2.000000</td>\n",
              "      <td>-2.000000</td>\n",
              "      <td>-2.000000</td>\n",
              "      <td>...</td>\n",
              "      <td>-1.572640e+05</td>\n",
              "      <td>-170000.000000</td>\n",
              "      <td>-81334.000000</td>\n",
              "      <td>-339603.000000</td>\n",
              "      <td>0.000000</td>\n",
              "      <td>0.000000e+00</td>\n",
              "      <td>0.00000</td>\n",
              "      <td>0.000000</td>\n",
              "      <td>0.000000</td>\n",
              "      <td>0.000000</td>\n",
              "    </tr>\n",
              "    <tr>\n",
              "      <th>25%</th>\n",
              "      <td>0.000000</td>\n",
              "      <td>50000.000000</td>\n",
              "      <td>1.000000</td>\n",
              "      <td>1.000000</td>\n",
              "      <td>28.000000</td>\n",
              "      <td>-1.000000</td>\n",
              "      <td>-1.000000</td>\n",
              "      <td>-1.000000</td>\n",
              "      <td>-1.000000</td>\n",
              "      <td>-1.000000</td>\n",
              "      <td>...</td>\n",
              "      <td>2.666250e+03</td>\n",
              "      <td>2326.750000</td>\n",
              "      <td>1763.000000</td>\n",
              "      <td>1256.000000</td>\n",
              "      <td>1000.000000</td>\n",
              "      <td>8.330000e+02</td>\n",
              "      <td>390.00000</td>\n",
              "      <td>296.000000</td>\n",
              "      <td>252.500000</td>\n",
              "      <td>117.750000</td>\n",
              "    </tr>\n",
              "    <tr>\n",
              "      <th>50%</th>\n",
              "      <td>0.000000</td>\n",
              "      <td>140000.000000</td>\n",
              "      <td>2.000000</td>\n",
              "      <td>2.000000</td>\n",
              "      <td>34.000000</td>\n",
              "      <td>0.000000</td>\n",
              "      <td>0.000000</td>\n",
              "      <td>0.000000</td>\n",
              "      <td>0.000000</td>\n",
              "      <td>0.000000</td>\n",
              "      <td>...</td>\n",
              "      <td>2.008850e+04</td>\n",
              "      <td>19052.000000</td>\n",
              "      <td>18104.500000</td>\n",
              "      <td>17071.000000</td>\n",
              "      <td>2100.000000</td>\n",
              "      <td>2.009000e+03</td>\n",
              "      <td>1800.00000</td>\n",
              "      <td>1500.000000</td>\n",
              "      <td>1500.000000</td>\n",
              "      <td>1500.000000</td>\n",
              "    </tr>\n",
              "    <tr>\n",
              "      <th>75%</th>\n",
              "      <td>0.000000</td>\n",
              "      <td>240000.000000</td>\n",
              "      <td>2.000000</td>\n",
              "      <td>2.000000</td>\n",
              "      <td>41.000000</td>\n",
              "      <td>0.000000</td>\n",
              "      <td>0.000000</td>\n",
              "      <td>0.000000</td>\n",
              "      <td>0.000000</td>\n",
              "      <td>0.000000</td>\n",
              "      <td>...</td>\n",
              "      <td>6.016475e+04</td>\n",
              "      <td>54506.000000</td>\n",
              "      <td>50190.500000</td>\n",
              "      <td>49198.250000</td>\n",
              "      <td>5006.000000</td>\n",
              "      <td>5.000000e+03</td>\n",
              "      <td>4505.00000</td>\n",
              "      <td>4013.250000</td>\n",
              "      <td>4031.500000</td>\n",
              "      <td>4000.000000</td>\n",
              "    </tr>\n",
              "    <tr>\n",
              "      <th>max</th>\n",
              "      <td>1.000000</td>\n",
              "      <td>1000000.000000</td>\n",
              "      <td>6.000000</td>\n",
              "      <td>3.000000</td>\n",
              "      <td>79.000000</td>\n",
              "      <td>8.000000</td>\n",
              "      <td>8.000000</td>\n",
              "      <td>8.000000</td>\n",
              "      <td>8.000000</td>\n",
              "      <td>8.000000</td>\n",
              "      <td>...</td>\n",
              "      <td>1.664089e+06</td>\n",
              "      <td>891586.000000</td>\n",
              "      <td>927171.000000</td>\n",
              "      <td>961664.000000</td>\n",
              "      <td>873552.000000</td>\n",
              "      <td>1.684259e+06</td>\n",
              "      <td>896040.00000</td>\n",
              "      <td>621000.000000</td>\n",
              "      <td>426529.000000</td>\n",
              "      <td>528666.000000</td>\n",
              "    </tr>\n",
              "  </tbody>\n",
              "</table>\n",
              "<p>8 rows × 23 columns</p>\n",
              "</div>\n",
              "      <button class=\"colab-df-convert\" onclick=\"convertToInteractive('df-0cf55d41-512e-408a-8a4c-1f28291ef3b6')\"\n",
              "              title=\"Convert this dataframe to an interactive table.\"\n",
              "              style=\"display:none;\">\n",
              "        \n",
              "  <svg xmlns=\"http://www.w3.org/2000/svg\" height=\"24px\"viewBox=\"0 0 24 24\"\n",
              "       width=\"24px\">\n",
              "    <path d=\"M0 0h24v24H0V0z\" fill=\"none\"/>\n",
              "    <path d=\"M18.56 5.44l.94 2.06.94-2.06 2.06-.94-2.06-.94-.94-2.06-.94 2.06-2.06.94zm-11 1L8.5 8.5l.94-2.06 2.06-.94-2.06-.94L8.5 2.5l-.94 2.06-2.06.94zm10 10l.94 2.06.94-2.06 2.06-.94-2.06-.94-.94-2.06-.94 2.06-2.06.94z\"/><path d=\"M17.41 7.96l-1.37-1.37c-.4-.4-.92-.59-1.43-.59-.52 0-1.04.2-1.43.59L10.3 9.45l-7.72 7.72c-.78.78-.78 2.05 0 2.83L4 21.41c.39.39.9.59 1.41.59.51 0 1.02-.2 1.41-.59l7.78-7.78 2.81-2.81c.8-.78.8-2.07 0-2.86zM5.41 20L4 18.59l7.72-7.72 1.47 1.35L5.41 20z\"/>\n",
              "  </svg>\n",
              "      </button>\n",
              "      \n",
              "  <style>\n",
              "    .colab-df-container {\n",
              "      display:flex;\n",
              "      flex-wrap:wrap;\n",
              "      gap: 12px;\n",
              "    }\n",
              "\n",
              "    .colab-df-convert {\n",
              "      background-color: #E8F0FE;\n",
              "      border: none;\n",
              "      border-radius: 50%;\n",
              "      cursor: pointer;\n",
              "      display: none;\n",
              "      fill: #1967D2;\n",
              "      height: 32px;\n",
              "      padding: 0 0 0 0;\n",
              "      width: 32px;\n",
              "    }\n",
              "\n",
              "    .colab-df-convert:hover {\n",
              "      background-color: #E2EBFA;\n",
              "      box-shadow: 0px 1px 2px rgba(60, 64, 67, 0.3), 0px 1px 3px 1px rgba(60, 64, 67, 0.15);\n",
              "      fill: #174EA6;\n",
              "    }\n",
              "\n",
              "    [theme=dark] .colab-df-convert {\n",
              "      background-color: #3B4455;\n",
              "      fill: #D2E3FC;\n",
              "    }\n",
              "\n",
              "    [theme=dark] .colab-df-convert:hover {\n",
              "      background-color: #434B5C;\n",
              "      box-shadow: 0px 1px 3px 1px rgba(0, 0, 0, 0.15);\n",
              "      filter: drop-shadow(0px 1px 2px rgba(0, 0, 0, 0.3));\n",
              "      fill: #FFFFFF;\n",
              "    }\n",
              "  </style>\n",
              "\n",
              "      <script>\n",
              "        const buttonEl =\n",
              "          document.querySelector('#df-0cf55d41-512e-408a-8a4c-1f28291ef3b6 button.colab-df-convert');\n",
              "        buttonEl.style.display =\n",
              "          google.colab.kernel.accessAllowed ? 'block' : 'none';\n",
              "\n",
              "        async function convertToInteractive(key) {\n",
              "          const element = document.querySelector('#df-0cf55d41-512e-408a-8a4c-1f28291ef3b6');\n",
              "          const dataTable =\n",
              "            await google.colab.kernel.invokeFunction('convertToInteractive',\n",
              "                                                     [key], {});\n",
              "          if (!dataTable) return;\n",
              "\n",
              "          const docLinkHtml = 'Like what you see? Visit the ' +\n",
              "            '<a target=\"_blank\" href=https://colab.research.google.com/notebooks/data_table.ipynb>data table notebook</a>'\n",
              "            + ' to learn more about interactive tables.';\n",
              "          element.innerHTML = '';\n",
              "          dataTable['output_type'] = 'display_data';\n",
              "          await google.colab.output.renderOutput(dataTable, element);\n",
              "          const docLink = document.createElement('div');\n",
              "          docLink.innerHTML = docLinkHtml;\n",
              "          element.appendChild(docLink);\n",
              "        }\n",
              "      </script>\n",
              "    </div>\n",
              "  </div>\n",
              "  "
            ]
          },
          "metadata": {},
          "execution_count": 81
        }
      ]
    },
    {
      "cell_type": "code",
      "source": [
        "# determine the target variable\n",
        "# In this case is the default of obligation (incumplimiento de pago) with values 0 and 1.\n",
        "# this will be the first column (0)\n",
        "target_var='default'"
      ],
      "metadata": {
        "id": "--2JW00YZey5"
      },
      "execution_count": 82,
      "outputs": []
    },
    {
      "cell_type": "code",
      "source": [
        "import pandas as pd\n",
        "import numpy as np\n",
        "# for plotting\n",
        "import matplotlib.pyplot as plt\n",
        "import seaborn as sns\n",
        "# for the yeo-johnson transformation\n",
        "import scipy.stats as stats\n",
        "\n",
        "\n",
        "def dibuja_histograma( data, target_var , ylabel, xlabel):\n",
        "  data[target_var].hist(bins=10) \n",
        "  plt.ylabel(ylabel)\n",
        "  plt.xlabel(xlabel)\n",
        "  plt.show()\n",
        "\n",
        "dibuja_histograma(df, target_var, 'Cantidad de clientes', 'Default 0:No, 1:Si')"
      ],
      "metadata": {
        "colab": {
          "base_uri": "https://localhost:8080/",
          "height": 279
        },
        "id": "cdW04t8aaBp2",
        "outputId": "eef59eef-49e7-4fdf-e400-3a6be9cfc3b1"
      },
      "execution_count": 83,
      "outputs": [
        {
          "output_type": "display_data",
          "data": {
            "text/plain": [
              "<Figure size 432x288 with 1 Axes>"
            ],
            "image/png": "[encoded data removed]"
          },
          "metadata": {
            "needs_background": "light"
          }
        }
      ]
    },
    {
      "cell_type": "code",
      "source": [
        "#Data wrangling\n",
        "\n",
        "def clasifica_variables( data, target_var):\n",
        "  cat_vars = [var for var in data.columns if data[var].dtype == 'O']\n",
        "  num_vars = [var for var in data.columns if var not in cat_vars and var != target_var]\n",
        "  return cat_vars, num_vars\n",
        "\n",
        "cat_vars, num_vars=clasifica_variables(df,target_var)\n",
        "print('Numeric Features: ' + str(num_vars))\n",
        "print('Category Features:'+ str(cat_vars))"
      ],
      "metadata": {
        "colab": {
          "base_uri": "https://localhost:8080/"
        },
        "id": "I66GLDqzZaPb",
        "outputId": "ba8ce0f9-2c2f-4bbd-e653-3abe4c1d37ef"
      },
      "execution_count": 84,
      "outputs": [
        {
          "output_type": "stream",
          "name": "stdout",
          "text": [
            "Numeric Features: ['limit', 'edu', 'married', 'age', 'apr_delay', 'may_delay', 'jun_delay', 'jul_delay', 'aug_delay', 'sep_delay', 'apr_bill', 'may_bill', 'jun_bill', 'jul_bill', 'aug_bill', 'sep_bill', 'apr_pay', 'may_pay', 'jun_pay', 'jul_pay', 'aug_pay', 'sep_pay']\n",
            "Category Features:['sex']\n"
          ]
        }
      ]
    },
    {
      "cell_type": "code",
      "source": [
        "#Data wrangling\n",
        "#We notice 'sex' is an object feature, so we need to convert it to a numeric one.\n",
        "df['sex'].value_counts()\n",
        "\n"
      ],
      "metadata": {
        "colab": {
          "base_uri": "https://localhost:8080/"
        },
        "id": "h262LFCIY0YZ",
        "outputId": "ffe3a755-231b-4938-962e-2ee3eeaa449b"
      },
      "execution_count": 85,
      "outputs": [
        {
          "output_type": "execute_result",
          "data": {
            "text/plain": [
              "M    18112\n",
              "F    11888\n",
              "Name: sex, dtype: int64"
            ]
          },
          "metadata": {},
          "execution_count": 85
        }
      ]
    },
    {
      "cell_type": "code",
      "source": [
        "#Change [F,M]  -> [1,2]\n",
        "def apply_mappings(df):\n",
        "  var='sex'\n",
        "  qual_mappings = {'F': 1, 'M': 2}\n",
        "  df[var] = df[var].map(qual_mappings)\n",
        "  return df\n",
        "df=apply_mappings(df)"
      ],
      "metadata": {
        "id": "s7jb8M9_Yzx9"
      },
      "execution_count": 86,
      "outputs": []
    },
    {
      "cell_type": "code",
      "source": [
        "#Verify result\n",
        "df['sex'].value_counts()"
      ],
      "metadata": {
        "colab": {
          "base_uri": "https://localhost:8080/"
        },
        "id": "bUIO0WBVcXwo",
        "outputId": "1bd426c9-f897-4498-f141-93a4aa824201"
      },
      "execution_count": 87,
      "outputs": [
        {
          "output_type": "execute_result",
          "data": {
            "text/plain": [
              "2    18112\n",
              "1    11888\n",
              "Name: sex, dtype: int64"
            ]
          },
          "metadata": {},
          "execution_count": 87
        }
      ]
    },
    {
      "cell_type": "code",
      "source": [
        "#check the df again \n",
        "#df.info()#\n",
        "cat_vars, num_vars=clasifica_variables(df,target_var)\n",
        "print('Numeric Features: ' + str(num_vars))\n",
        "print('Category Features:'+ str(cat_vars))"
      ],
      "metadata": {
        "colab": {
          "base_uri": "https://localhost:8080/"
        },
        "id": "kANELyLPVGNi",
        "outputId": "77c6a7cb-9fd6-4e0e-e3c8-62bca020a183"
      },
      "execution_count": 88,
      "outputs": [
        {
          "output_type": "stream",
          "name": "stdout",
          "text": [
            "Numeric Features: ['limit', 'sex', 'edu', 'married', 'age', 'apr_delay', 'may_delay', 'jun_delay', 'jul_delay', 'aug_delay', 'sep_delay', 'apr_bill', 'may_bill', 'jun_bill', 'jul_bill', 'aug_bill', 'sep_bill', 'apr_pay', 'may_pay', 'jun_pay', 'jul_pay', 'aug_pay', 'sep_pay']\n",
            "Category Features:[]\n"
          ]
        }
      ]
    },
    {
      "cell_type": "code",
      "source": [
        "#There are no Category features, so may we proceed."
      ],
      "metadata": {
        "id": "eaNiCMN2c5tG"
      },
      "execution_count": 89,
      "outputs": []
    },
    {
      "cell_type": "code",
      "source": [
        "# Plot Distributions\n",
        "\n",
        "def get_discrete_vars(data, year_vars, num_vars):\n",
        "    #  let's male a list of discrete variables\n",
        "    discrete_vars = [var for var in num_vars if len(data[var].unique()) < 20 and var not in year_vars]\n",
        "    print('Variables discretas: ', len(discrete_vars))\n",
        "    return discrete_vars\n",
        "\n",
        "def get_continous_vars(data, year_vars, num_vars, discrete_vars):\n",
        "    # make list of continuous variables\n",
        "    cont_vars = [var for var in num_vars if var not in discrete_vars+year_vars]\n",
        "    print('Variables continuas: ', len(cont_vars))    \n",
        "    return cont_vars\n",
        "\n",
        "def plot_continous_vars(data, cont_vars ):\n",
        "    data[cont_vars].hist(bins=30, figsize=(15,15))\n",
        "    plt.show()\n",
        "\n",
        "print(\"Distribuciones Variables continuas:\")\n",
        "year_vars=[]\n",
        "discrete_vars=get_discrete_vars(df,year_vars, num_vars)\n",
        "cont_vars=get_continous_vars(df, year_vars, num_vars, discrete_vars)\n",
        "plot_continous_vars(df, cont_vars)\n"
      ],
      "metadata": {
        "colab": {
          "base_uri": "https://localhost:8080/",
          "height": 930
        },
        "id": "VLSlhsvdjIyC",
        "outputId": "d3e2a769-5c17-4c4b-de0b-7d01e3ab854b"
      },
      "execution_count": 90,
      "outputs": [
        {
          "output_type": "stream",
          "name": "stdout",
          "text": [
            "Distribuciones Variables continuas:\n",
            "Variables discretas:  9\n",
            "Variables continuas:  14\n"
          ]
        },
        {
          "output_type": "display_data",
          "data": {
            "text/plain": [
              "<Figure size 1080x1080 with 16 Axes>"
            ],
            "image/png": "[encoded data removed]"
          },
          "metadata": {
            "needs_background": "light"
          }
        }
      ]
    },
    {
      "cell_type": "code",
      "source": [
        "print(\"Distribuciones variables discretas\")\n",
        "def plot_discrete_vars(data, discrete_vars, target_var):\n",
        "    for var in discrete_vars:\n",
        "        # make boxplot with Catplot\n",
        "        sns.catplot(x=var, y=target_var, data=data, kind=\"box\", height=4, aspect=1.5)\n",
        "        # add data points to boxplot with stripplot\n",
        "        sns.stripplot(x=var, y=target_var, data=data, jitter=0.1, alpha=0.3, color='k')\n",
        "        plt.show()\n",
        "\n",
        "print(\"Variables discretas:\")\n",
        "plot_discrete_vars(df, discrete_vars, target_var)"
      ],
      "metadata": {
        "colab": {
          "base_uri": "https://localhost:8080/",
          "height": 1000
        },
        "id": "OKLuMh72jKEs",
        "outputId": "10086081-9917-402d-8f17-6268a8130a22"
      },
      "execution_count": 91,
      "outputs": [
        {
          "output_type": "stream",
          "name": "stdout",
          "text": [
            "Distribuciones variables discretas\n",
            "Variables discretas:\n"
          ]
        },
        {
          "output_type": "display_data",
          "data": {
            "text/plain": [
              "<Figure size 432x288 with 1 Axes>"
            ],
            "image/png": "[encoded data removed]"
          },
          "metadata": {
            "needs_background": "light"
          }
        },
        {
          "output_type": "display_data",
          "data": {
            "text/plain": [
              "<Figure size 432x288 with 1 Axes>"
            ],
            "image/png": "[encoded data removed]"
          },
          "metadata": {
            "needs_background": "light"
          }
        },
        {
          "output_type": "display_data",
          "data": {
            "text/plain": [
              "<Figure size 432x288 with 1 Axes>"
            ],
            "image/png": "[encoded data removed]"
          },
          "metadata": {
            "needs_background": "light"
          }
        },
        {
          "output_type": "display_data",
          "data": {
            "text/plain": [
              "<Figure size 432x288 with 1 Axes>"
            ],
            "image/png": "[encoded data removed]"
          },
          "metadata": {
            "needs_background": "light"
          }
        },
        {
          "output_type": "display_data",
          "data": {
            "text/plain": [
              "<Figure size 432x288 with 1 Axes>"
            ],
            "image/png": "[encoded data removed]"
          },
          "metadata": {
            "needs_background": "light"
          }
        },
        {
          "output_type": "display_data",
          "data": {
            "text/plain": [
              "<Figure size 432x288 with 1 Axes>"
            ],
            "image/png": "[encoded data removed]"
          },
          "metadata": {
            "needs_background": "light"
          }
        },
        {
          "output_type": "display_data",
          "data": {
            "text/plain": [
              "<Figure size 432x288 with 1 Axes>"
            ],
            "image/png": "[encoded data removed]"
          },
          "metadata": {
            "needs_background": "light"
          }
        },
        {
          "output_type": "display_data",
          "data": {
            "text/plain": [
              "<Figure size 432x288 with 1 Axes>"
            ],
            "image/png": "[encoded data removed]"
          },
          "metadata": {
            "needs_background": "light"
          }
        },
        {
          "output_type": "display_data",
          "data": {
            "text/plain": [
              "<Figure size 432x288 with 1 Axes>"
            ],
            "image/png": "[encoded data removed]"
          },
          "metadata": {
            "needs_background": "light"
          }
        }
      ]
    },
    {
      "cell_type": "code",
      "source": [
        "#Define models to check\n",
        "MODELS = [GradientBoostingClassifier(), RandomForestClassifier(), LogisticRegression(max_iter=1000), GaussianNB() ]"
      ],
      "metadata": {
        "id": "5B9OC_J5dB_g"
      },
      "execution_count": 92,
      "outputs": []
    },
    {
      "cell_type": "code",
      "source": [
        "# 4. Feature Engineering: Definicion de variables independientes(X):features  y dependiente (y): target\n",
        "target = df.columns[0]\n",
        "features = [col for col in df.columns if col not in target]\n",
        "  \n",
        "\n",
        "# 5. Partir el dataset en TRAINING y TEST\n",
        "# \n",
        "#Split the data:\n",
        "def split_data(df):\n",
        "  #show_df(df)\n",
        "  target = df.columns[0]\n",
        "  features = [col for col in df.columns if col not in target]\n",
        "  X = df[features].values\n",
        "  y = df[target].values\n",
        "  labels = df[target].unique().tolist()\n",
        "  labels.sort()\n",
        "\n",
        "  train_df, test_df = train_test_split(df, test_size = .30, random_state=42)\n",
        "  X_train = train_df[features].values\n",
        "  y_train = train_df[target].values\n",
        "  X_test = test_df[features].values\n",
        "  y_test = test_df[target].values\n",
        "  return labels, features, target, X_train, X_test, y_train, y_test\n",
        "\n",
        "labels, features, target, X_train, X_test, y_train, y_test = split_data(df)"
      ],
      "metadata": {
        "id": "L9AdgLfkqmgs"
      },
      "execution_count": 93,
      "outputs": []
    },
    {
      "cell_type": "code",
      "source": [
        "#Check status:\n",
        "print('Size of train dataset:'+ str(X_train.shape))\n",
        "print('Size of test dataset:'+ str(X_test.shape))\n",
        "print('Features:'+ str(features))\n",
        "print('Target:'+ target_var)"
      ],
      "metadata": {
        "colab": {
          "base_uri": "https://localhost:8080/"
        },
        "id": "SgXn62aldQqS",
        "outputId": "fa936908-c0cb-41bc-c258-955e01525021"
      },
      "execution_count": 94,
      "outputs": [
        {
          "output_type": "stream",
          "name": "stdout",
          "text": [
            "Size of train dataset:(21000, 23)\n",
            "Size of test dataset:(9000, 23)\n",
            "Features:['limit', 'sex', 'edu', 'married', 'age', 'apr_delay', 'may_delay', 'jun_delay', 'jul_delay', 'aug_delay', 'sep_delay', 'apr_bill', 'may_bill', 'jun_bill', 'jul_bill', 'aug_bill', 'sep_bill', 'apr_pay', 'may_pay', 'jun_pay', 'jul_pay', 'aug_pay', 'sep_pay']\n",
            "Target:default\n"
          ]
        }
      ]
    },
    {
      "cell_type": "code",
      "source": [
        "# 6. Entrenamiento\n",
        "\n",
        "#train the models and compare them\n",
        "%matplotlib inline\n",
        "def train(model, X_train, y_train, X_test, y_test, labels):\n",
        "  full_report=False\n",
        "  model.fit(X_train, y_train)\n",
        "\n",
        "  # 7. Hacer predicciones de prueba\n",
        "  y_pred = model.predict(X_test)\n",
        "  report = classificationreport(y_test, y_pred, target_names= [\"0\", \"1\"], output_dict=True)\n",
        "\n",
        "  # 8. Calcular el score del modelo\n",
        "  score=model.score(X_test,y_test)\n",
        "\n",
        "  if full_report:\n",
        "    vizualizer = ClassificationReport(model, classes=labels, support=True)\n",
        "    vizualizer.fit(X_train, y_train)\n",
        "    vizualizer.score(X_test, y_test)\n",
        "    vizualizer.show();\n",
        "\n",
        "    visualizer = ROCAUC(model, classes=labels, support=True)\n",
        "    visualizer.fit(X_train, y_train)\n",
        "    visualizer.score(X_test, y_test)\n",
        "    visualizer.show();\n",
        "\n",
        "    visualizer=PrecisionRecallCurve(model)\n",
        "    visualizer.fit(X_train, y_train)\n",
        "    visualizer.score(X_test, y_test)\n",
        "    visualizer.show();\n",
        "    #print(model)\n",
        "    if str(model) != \"GaussianNB()\":\n",
        "      visualizer = FeatureImportances(model)\n",
        "      visualizer.fit(X_train, y_train)\n",
        "      visualizer.show();\n",
        "\n",
        "  # 9. Visualizar el resultado de la prueba\n",
        "  cm = ConfusionMatrix(\n",
        "    model, classes=labels,\n",
        "    percent=True\n",
        "  )\n",
        "  cm.fit(X_train, y_train)\n",
        "  cm.score(X_test, y_test)\n",
        "  cm.show();\n",
        "  return model , score\n",
        "\n",
        "def train_all_models(X_train, y_train,X_test,y_test, labels):\n",
        "  scores={}\n",
        "  models=[]\n",
        "  for model  in MODELS:\n",
        "    m,s =train(model,X_train, y_train, X_test, y_test , labels)\n",
        "    scores[model]=s\n",
        "    models.append(m)\n",
        "  return scores\n",
        "    \n",
        "scores=train_all_models(X_train, y_train,X_test,y_test, labels)\n"
      ],
      "metadata": {
        "colab": {
          "base_uri": "https://localhost:8080/",
          "height": 1000
        },
        "id": "3R-bCFw5q0qD",
        "outputId": "76374368-6073-4c6a-b03d-01e0e7ee2ebe"
      },
      "execution_count": 95,
      "outputs": [
        {
          "output_type": "display_data",
          "data": {
            "text/plain": [
              "<Figure size 432x288 with 1 Axes>"
            ],
            "image/png": "[encoded data removed]"
          },
          "metadata": {
            "needs_background": "light"
          }
        },
        {
          "output_type": "display_data",
          "data": {
            "text/plain": [
              "<Figure size 432x288 with 1 Axes>"
            ],
            "image/png": "[encoded data removed]"
          },
          "metadata": {
            "needs_background": "light"
          }
        },
        {
          "output_type": "stream",
          "name": "stderr",
          "text": [
            "/usr/local/lib/python3.7/dist-packages/sklearn/metrics/_classification.py:1318: UndefinedMetricWarning: Precision and F-score are ill-defined and being set to 0.0 in labels with no predicted samples. Use `zero_division` parameter to control this behavior.\n",
            "  _warn_prf(average, modifier, msg_start, len(result))\n",
            "/usr/local/lib/python3.7/dist-packages/sklearn/metrics/_classification.py:1318: UndefinedMetricWarning: Precision and F-score are ill-defined and being set to 0.0 in labels with no predicted samples. Use `zero_division` parameter to control this behavior.\n",
            "  _warn_prf(average, modifier, msg_start, len(result))\n",
            "/usr/local/lib/python3.7/dist-packages/sklearn/metrics/_classification.py:1318: UndefinedMetricWarning: Precision and F-score are ill-defined and being set to 0.0 in labels with no predicted samples. Use `zero_division` parameter to control this behavior.\n",
            "  _warn_prf(average, modifier, msg_start, len(result))\n"
          ]
        },
        {
          "output_type": "display_data",
          "data": {
            "text/plain": [
              "<Figure size 432x288 with 1 Axes>"
            ],
            "image/png": "[encoded data removed]"
          },
          "metadata": {
            "needs_background": "light"
          }
        },
        {
          "output_type": "display_data",
          "data": {
            "text/plain": [
              "<Figure size 432x288 with 1 Axes>"
            ],
            "image/png": "[encoded data removed]"
          },
          "metadata": {
            "needs_background": "light"
          }
        }
      ]
    },
    {
      "cell_type": "code",
      "source": [
        "#Print scores:\n",
        "\n",
        "print(\"Accuracy scores:\")\n",
        "# print each data item.\n",
        "for key, value in scores.items():\n",
        "    score = value\n",
        "    print(\"{:<10}   :  {:<10}\".format(str(key), score))\n",
        "#print(scores)"
      ],
      "metadata": {
        "colab": {
          "base_uri": "https://localhost:8080/"
        },
        "id": "d_w3ud-ciKu2",
        "outputId": "a8eb339c-0b82-430e-8837-86379e82fc95"
      },
      "execution_count": 96,
      "outputs": [
        {
          "output_type": "stream",
          "name": "stdout",
          "text": [
            "Accuracy scores:\n",
            "GradientBoostingClassifier()   :  0.8211111111111111\n",
            "RandomForestClassifier()   :  0.8144444444444444\n",
            "LogisticRegression(max_iter=1000)   :  0.7822222222222223\n",
            "GaussianNB()   :  0.37777777777777777\n"
          ]
        }
      ]
    },
    {
      "cell_type": "code",
      "source": [
        "#10 Conclusiones\n",
        "\n",
        "#Conclusions\n",
        "#The best accuracy score is 0.82, so the GradientBoostingClassifier is the selected model.\n",
        "\n"
      ],
      "metadata": {
        "id": "dHQE1HZa_OSf"
      },
      "execution_count": 97,
      "outputs": []
    }
  ]
}